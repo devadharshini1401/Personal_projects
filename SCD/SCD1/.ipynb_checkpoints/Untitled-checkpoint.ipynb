{
 "cells": [
  {
   "cell_type": "code",
   "execution_count": 128,
   "id": "dec32012",
   "metadata": {},
   "outputs": [],
   "source": [
    "import pandas as pd\n",
    "from sqlalchemy import Table,Column,MetaData,Integer,String,create_engine,Float,ForeignKey,Date\n",
    "engine = create_engine('sqlite:///scd1.db')\n",
    "con = engine.connect()\n",
    "from datetime import datetime\n",
    "meta = MetaData()"
   ]
  },
  {
   "cell_type": "code",
   "execution_count": 129,
   "id": "54e2bb25",
   "metadata": {},
   "outputs": [],
   "source": [
    "prod = pd.read_sql('product',engine)\n",
    "prod_fam = pd.read_sql('prod_family',engine)\n",
    "prod_cat = pd.read_sql('prod_cat',engine)"
   ]
  },
  {
   "cell_type": "code",
   "execution_count": 130,
   "id": "c705eab0",
   "metadata": {},
   "outputs": [
    {
     "data": {
      "text/html": [
       "<div>\n",
       "<style scoped>\n",
       "    .dataframe tbody tr th:only-of-type {\n",
       "        vertical-align: middle;\n",
       "    }\n",
       "\n",
       "    .dataframe tbody tr th {\n",
       "        vertical-align: top;\n",
       "    }\n",
       "\n",
       "    .dataframe thead th {\n",
       "        text-align: right;\n",
       "    }\n",
       "</style>\n",
       "<table border=\"1\" class=\"dataframe\">\n",
       "  <thead>\n",
       "    <tr style=\"text-align: right;\">\n",
       "      <th></th>\n",
       "      <th>prod_id</th>\n",
       "      <th>prod_name</th>\n",
       "      <th>prod_price</th>\n",
       "      <th>prod_cost</th>\n",
       "      <th>Start_date</th>\n",
       "      <th>prod_cat_id</th>\n",
       "    </tr>\n",
       "  </thead>\n",
       "  <tbody>\n",
       "    <tr>\n",
       "      <th>0</th>\n",
       "      <td>1</td>\n",
       "      <td>Blue Ballpoint Pen</td>\n",
       "      <td>1.50</td>\n",
       "      <td>0.75</td>\n",
       "      <td>2024-01-14</td>\n",
       "      <td>1.0</td>\n",
       "    </tr>\n",
       "    <tr>\n",
       "      <th>1</th>\n",
       "      <td>2</td>\n",
       "      <td>Mechanical Pencil</td>\n",
       "      <td>1.25</td>\n",
       "      <td>0.60</td>\n",
       "      <td>2024-01-14</td>\n",
       "      <td>2.0</td>\n",
       "    </tr>\n",
       "    <tr>\n",
       "      <th>2</th>\n",
       "      <td>3</td>\n",
       "      <td>Spiral Bound Notebook</td>\n",
       "      <td>3.50</td>\n",
       "      <td>1.75</td>\n",
       "      <td>2024-01-14</td>\n",
       "      <td>3.0</td>\n",
       "    </tr>\n",
       "    <tr>\n",
       "      <th>3</th>\n",
       "      <td>4</td>\n",
       "      <td>To Kill a Mockingbird</td>\n",
       "      <td>10.99</td>\n",
       "      <td>6.50</td>\n",
       "      <td>2024-01-14</td>\n",
       "      <td>4.0</td>\n",
       "    </tr>\n",
       "    <tr>\n",
       "      <th>4</th>\n",
       "      <td>5</td>\n",
       "      <td>Permanent Marker (Black)</td>\n",
       "      <td>2.99</td>\n",
       "      <td>1.50</td>\n",
       "      <td>2024-01-14</td>\n",
       "      <td>5.0</td>\n",
       "    </tr>\n",
       "    <tr>\n",
       "      <th>5</th>\n",
       "      <td>6</td>\n",
       "      <td>Yellow Highlighter</td>\n",
       "      <td>1.25</td>\n",
       "      <td>0.60</td>\n",
       "      <td>2024-01-14</td>\n",
       "      <td>6.0</td>\n",
       "    </tr>\n",
       "    <tr>\n",
       "      <th>6</th>\n",
       "      <td>7</td>\n",
       "      <td>Legal Pad (Yellow, 50 Sheets)</td>\n",
       "      <td>1.99</td>\n",
       "      <td>0.90</td>\n",
       "      <td>2024-01-14</td>\n",
       "      <td>7.0</td>\n",
       "    </tr>\n",
       "    <tr>\n",
       "      <th>7</th>\n",
       "      <td>8</td>\n",
       "      <td>Steve Jobs: The Biography</td>\n",
       "      <td>14.99</td>\n",
       "      <td>8.50</td>\n",
       "      <td>2024-01-14</td>\n",
       "      <td>8.0</td>\n",
       "    </tr>\n",
       "  </tbody>\n",
       "</table>\n",
       "</div>"
      ],
      "text/plain": [
       "   prod_id                      prod_name  prod_price  prod_cost Start_date  \\\n",
       "0        1             Blue Ballpoint Pen        1.50       0.75 2024-01-14   \n",
       "1        2              Mechanical Pencil        1.25       0.60 2024-01-14   \n",
       "2        3          Spiral Bound Notebook        3.50       1.75 2024-01-14   \n",
       "3        4          To Kill a Mockingbird       10.99       6.50 2024-01-14   \n",
       "4        5       Permanent Marker (Black)        2.99       1.50 2024-01-14   \n",
       "5        6             Yellow Highlighter        1.25       0.60 2024-01-14   \n",
       "6        7  Legal Pad (Yellow, 50 Sheets)        1.99       0.90 2024-01-14   \n",
       "7        8      Steve Jobs: The Biography       14.99       8.50 2024-01-14   \n",
       "\n",
       "   prod_cat_id  \n",
       "0          1.0  \n",
       "1          2.0  \n",
       "2          3.0  \n",
       "3          4.0  \n",
       "4          5.0  \n",
       "5          6.0  \n",
       "6          7.0  \n",
       "7          8.0  "
      ]
     },
     "execution_count": 130,
     "metadata": {},
     "output_type": "execute_result"
    }
   ],
   "source": [
    "prod"
   ]
  },
  {
   "cell_type": "code",
   "execution_count": 131,
   "id": "34bc7fb0",
   "metadata": {},
   "outputs": [],
   "source": [
    "prod.loc[prod['prod_id'] == 8,['prod_price','Start_date']] = [18.99,datetime.now().date()]\n",
    "prod['Start_date'] = pd.to_datetime(prod['Start_date']).dt.date"
   ]
  },
  {
   "cell_type": "code",
   "execution_count": 132,
   "id": "42e516e5",
   "metadata": {},
   "outputs": [
    {
     "data": {
      "text/html": [
       "<div>\n",
       "<style scoped>\n",
       "    .dataframe tbody tr th:only-of-type {\n",
       "        vertical-align: middle;\n",
       "    }\n",
       "\n",
       "    .dataframe tbody tr th {\n",
       "        vertical-align: top;\n",
       "    }\n",
       "\n",
       "    .dataframe thead th {\n",
       "        text-align: right;\n",
       "    }\n",
       "</style>\n",
       "<table border=\"1\" class=\"dataframe\">\n",
       "  <thead>\n",
       "    <tr style=\"text-align: right;\">\n",
       "      <th></th>\n",
       "      <th>prod_id</th>\n",
       "      <th>prod_name</th>\n",
       "      <th>prod_price</th>\n",
       "      <th>prod_cost</th>\n",
       "      <th>Start_date</th>\n",
       "      <th>prod_cat_id</th>\n",
       "    </tr>\n",
       "  </thead>\n",
       "  <tbody>\n",
       "    <tr>\n",
       "      <th>0</th>\n",
       "      <td>1</td>\n",
       "      <td>Blue Ballpoint Pen</td>\n",
       "      <td>1.50</td>\n",
       "      <td>0.75</td>\n",
       "      <td>2024-01-14</td>\n",
       "      <td>1.0</td>\n",
       "    </tr>\n",
       "    <tr>\n",
       "      <th>1</th>\n",
       "      <td>2</td>\n",
       "      <td>Mechanical Pencil</td>\n",
       "      <td>1.25</td>\n",
       "      <td>0.60</td>\n",
       "      <td>2024-01-14</td>\n",
       "      <td>2.0</td>\n",
       "    </tr>\n",
       "    <tr>\n",
       "      <th>2</th>\n",
       "      <td>3</td>\n",
       "      <td>Spiral Bound Notebook</td>\n",
       "      <td>3.50</td>\n",
       "      <td>1.75</td>\n",
       "      <td>2024-01-14</td>\n",
       "      <td>3.0</td>\n",
       "    </tr>\n",
       "    <tr>\n",
       "      <th>3</th>\n",
       "      <td>4</td>\n",
       "      <td>To Kill a Mockingbird</td>\n",
       "      <td>10.99</td>\n",
       "      <td>6.50</td>\n",
       "      <td>2024-01-14</td>\n",
       "      <td>4.0</td>\n",
       "    </tr>\n",
       "    <tr>\n",
       "      <th>4</th>\n",
       "      <td>5</td>\n",
       "      <td>Permanent Marker (Black)</td>\n",
       "      <td>2.99</td>\n",
       "      <td>1.50</td>\n",
       "      <td>2024-01-14</td>\n",
       "      <td>5.0</td>\n",
       "    </tr>\n",
       "    <tr>\n",
       "      <th>5</th>\n",
       "      <td>6</td>\n",
       "      <td>Yellow Highlighter</td>\n",
       "      <td>1.25</td>\n",
       "      <td>0.60</td>\n",
       "      <td>2024-01-14</td>\n",
       "      <td>6.0</td>\n",
       "    </tr>\n",
       "    <tr>\n",
       "      <th>6</th>\n",
       "      <td>7</td>\n",
       "      <td>Legal Pad (Yellow, 50 Sheets)</td>\n",
       "      <td>1.99</td>\n",
       "      <td>0.90</td>\n",
       "      <td>2024-01-14</td>\n",
       "      <td>7.0</td>\n",
       "    </tr>\n",
       "    <tr>\n",
       "      <th>7</th>\n",
       "      <td>8</td>\n",
       "      <td>Steve Jobs: The Biography</td>\n",
       "      <td>18.99</td>\n",
       "      <td>8.50</td>\n",
       "      <td>2024-02-21</td>\n",
       "      <td>8.0</td>\n",
       "    </tr>\n",
       "  </tbody>\n",
       "</table>\n",
       "</div>"
      ],
      "text/plain": [
       "   prod_id                      prod_name  prod_price  prod_cost  Start_date  \\\n",
       "0        1             Blue Ballpoint Pen        1.50       0.75  2024-01-14   \n",
       "1        2              Mechanical Pencil        1.25       0.60  2024-01-14   \n",
       "2        3          Spiral Bound Notebook        3.50       1.75  2024-01-14   \n",
       "3        4          To Kill a Mockingbird       10.99       6.50  2024-01-14   \n",
       "4        5       Permanent Marker (Black)        2.99       1.50  2024-01-14   \n",
       "5        6             Yellow Highlighter        1.25       0.60  2024-01-14   \n",
       "6        7  Legal Pad (Yellow, 50 Sheets)        1.99       0.90  2024-01-14   \n",
       "7        8      Steve Jobs: The Biography       18.99       8.50  2024-02-21   \n",
       "\n",
       "   prod_cat_id  \n",
       "0          1.0  \n",
       "1          2.0  \n",
       "2          3.0  \n",
       "3          4.0  \n",
       "4          5.0  \n",
       "5          6.0  \n",
       "6          7.0  \n",
       "7          8.0  "
      ]
     },
     "execution_count": 132,
     "metadata": {},
     "output_type": "execute_result"
    }
   ],
   "source": [
    "prod"
   ]
  },
  {
   "cell_type": "code",
   "execution_count": 133,
   "id": "0f4d4fb1",
   "metadata": {},
   "outputs": [
    {
     "data": {
      "text/plain": [
       "8"
      ]
     },
     "execution_count": 133,
     "metadata": {},
     "output_type": "execute_result"
    }
   ],
   "source": [
    "prod.to_sql('product',engine,index=False,if_exists='replace')"
   ]
  },
  {
   "cell_type": "code",
   "execution_count": 134,
   "id": "1a2f945d",
   "metadata": {},
   "outputs": [],
   "source": [
    "merged_df = pd.merge(prod,prod_cat,on = 'prod_cat_id',how = 'inner')\n",
    "merged_df = pd.merge(merged_df,prod_fam,on = 'prod_fam_id',how = 'inner')"
   ]
  },
  {
   "cell_type": "code",
   "execution_count": 138,
   "id": "61506589",
   "metadata": {},
   "outputs": [
    {
     "data": {
      "text/plain": [
       "8"
      ]
     },
     "execution_count": 138,
     "metadata": {},
     "output_type": "execute_result"
    }
   ],
   "source": [
    "merged_df[['prod_id','prod_name','prod_price','prod_cat_desc','prod_fam_desc']].to_sql('prod_dim_scd1',engine,index=False,if_exists='replace')"
   ]
  },
  {
   "cell_type": "code",
   "execution_count": null,
   "id": "8573a781",
   "metadata": {},
   "outputs": [],
   "source": []
  }
 ],
 "metadata": {
  "kernelspec": {
   "display_name": "Python 3 (ipykernel)",
   "language": "python",
   "name": "python3"
  },
  "language_info": {
   "codemirror_mode": {
    "name": "ipython",
    "version": 3
   },
   "file_extension": ".py",
   "mimetype": "text/x-python",
   "name": "python",
   "nbconvert_exporter": "python",
   "pygments_lexer": "ipython3",
   "version": "3.11.5"
  }
 },
 "nbformat": 4,
 "nbformat_minor": 5
}
