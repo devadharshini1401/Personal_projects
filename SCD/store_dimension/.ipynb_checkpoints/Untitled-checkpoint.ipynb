{
 "cells": [
  {
   "cell_type": "code",
   "execution_count": 2,
   "id": "89895c0c",
   "metadata": {},
   "outputs": [],
   "source": [
    "#⁠Populating Store_dimension table based on country, state, city and store OLTP tables\n",
    "\n",
    "import pandas as pd\n",
    "from sqlalchemy import create_engine,Table,Column,Integer,String,MetaData,ForeignKey\n",
    "engine = create_engine('sqlite:///store_dim.db')\n",
    "meta = MetaData()\n",
    "con = engine.connect()\n",
    "meta.create_all(engine)"
   ]
  },
  {
   "cell_type": "code",
   "execution_count": 3,
   "id": "f6052d72",
   "metadata": {},
   "outputs": [],
   "source": [
    "country = Table('country',meta,\n",
    "               Column('country_id',Integer,primary_key=True),\n",
    "               Column('country_name',String)\n",
    "               )"
   ]
  },
  {
   "cell_type": "code",
   "execution_count": 4,
   "id": "104c2c0d",
   "metadata": {},
   "outputs": [],
   "source": [
    "state = Table('state',meta,\n",
    "               Column('state_id',Integer,primary_key=True),\n",
    "               Column('state_name',String),\n",
    "              Column('country_id',Integer,ForeignKey('country.country_id'))\n",
    "               )"
   ]
  },
  {
   "cell_type": "code",
   "execution_count": 5,
   "id": "28e3507a",
   "metadata": {},
   "outputs": [],
   "source": [
    "city = Table('city',meta,\n",
    "               Column('city_id',Integer,primary_key=True),\n",
    "               Column('city_name',String),\n",
    "              Column('state_id',Integer,ForeignKey('state.state_id'))\n",
    "               )"
   ]
  },
  {
   "cell_type": "code",
   "execution_count": 9,
   "id": "2906c79f",
   "metadata": {},
   "outputs": [],
   "source": [
    "store_dim = Table('store_dim',meta,\n",
    "                 Column('Store_id',Integer,primary_key=True,autoincrement = True),\n",
    "                  Column('Store_name',String),\n",
    "                  Column('city_name',String,ForeignKey('city.city_name')),\n",
    "                  Column('State_name',String,ForeignKey('state.state_name')),\n",
    "                  Column('country_name',String,ForeignKey('country.country_name'))\n",
    "                 )"
   ]
  },
  {
   "cell_type": "code",
   "execution_count": null,
   "id": "c2c1bbfd",
   "metadata": {},
   "outputs": [],
   "source": []
  }
 ],
 "metadata": {
  "kernelspec": {
   "display_name": "Python 3 (ipykernel)",
   "language": "python",
   "name": "python3"
  },
  "language_info": {
   "codemirror_mode": {
    "name": "ipython",
    "version": 3
   },
   "file_extension": ".py",
   "mimetype": "text/x-python",
   "name": "python",
   "nbconvert_exporter": "python",
   "pygments_lexer": "ipython3",
   "version": "3.11.5"
  }
 },
 "nbformat": 4,
 "nbformat_minor": 5
}
