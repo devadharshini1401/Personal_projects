{
 "cells": [
  {
   "cell_type": "code",
   "execution_count": 2,
   "id": "89895c0c",
   "metadata": {},
   "outputs": [],
   "source": [
    "#⁠Populating Store_dimension table based on country, state, city and store OLTP tables\n",
    "\n",
    "import pandas as pd\n",
    "from sqlalchemy import create_engine,Table,Column,Integer,String,MetaData,ForeignKey\n",
    "engine = create_engine('sqlite:///store_dim.db')\n",
    "meta = MetaData()\n",
    "con = engine.connect()\n",
    "meta.create_all(engine)"
   ]
  },
  {
   "cell_type": "code",
   "execution_count": 3,
   "id": "f6052d72",
   "metadata": {},
   "outputs": [],
   "source": [
    "country = Table('country',meta,\n",
    "               Column('country_id',Integer,primary_key=True),\n",
    "               Column('country_name',String)\n",
    "               )"
   ]
  },
  {
   "cell_type": "code",
   "execution_count": 4,
   "id": "104c2c0d",
   "metadata": {},
   "outputs": [],
   "source": [
    "state = Table('state',meta,\n",
    "               Column('state_id',Integer,primary_key=True),\n",
    "               Column('state_name',String),\n",
    "              Column('country_id',Integer,ForeignKey('country.country_id'))\n",
    "               )"
   ]
  },
  {
   "cell_type": "code",
   "execution_count": 5,
   "id": "28e3507a",
   "metadata": {},
   "outputs": [],
   "source": [
    "city = Table('city',meta,\n",
    "               Column('city_id',Integer,primary_key=True),\n",
    "               Column('city_name',String),\n",
    "              Column('state_id',Integer,ForeignKey('state.state_id'))\n",
    "               )"
   ]
  },
  {
   "cell_type": "code",
   "execution_count": 26,
   "id": "ea40b2f0",
   "metadata": {},
   "outputs": [],
   "source": [
    "store = Table('store',meta,\n",
    "             Column('Store_id',Integer,primary_key = True),\n",
    "             Column('Store_name',String),\n",
    "             Column('city_id',Integer))"
   ]
  },
  {
   "cell_type": "code",
   "execution_count": 9,
   "id": "2906c79f",
   "metadata": {},
   "outputs": [],
   "source": [
    "store_dim = Table('store_dim',meta,\n",
    "                 Column('Store_id',Integer,primary_key=True),\n",
    "                  Column('Store_name',String),\n",
    "                  Column('city_name',String,ForeignKey('city.city_name')),\n",
    "                  Column('State_name',String,ForeignKey('state.state_name')),\n",
    "                  Column('country_name',String,ForeignKey('country.country_name'))\n",
    "                 )"
   ]
  },
  {
   "cell_type": "code",
   "execution_count": 27,
   "id": "d34d1107",
   "metadata": {},
   "outputs": [],
   "source": [
    "meta.create_all(engine)"
   ]
  },
  {
   "cell_type": "code",
   "execution_count": 30,
   "id": "e13a2b78",
   "metadata": {},
   "outputs": [],
   "source": [
    "store_df = pd.read_sql_table('store',engine)\n",
    "city_df = pd.read_sql_table('city',engine)\n",
    "country_df = pd.read_sql_table('country',engine)\n",
    "state_df = pd.read_sql_table('state',engine)"
   ]
  },
  {
   "cell_type": "code",
   "execution_count": 32,
   "id": "6db663dd",
   "metadata": {},
   "outputs": [],
   "source": [
    "merged_df = pd.merge(store_df,city_df,on = 'city_id', how = 'inner')\n",
    "merged_df = pd.merge(merged_df,state_df,on = 'state_id',how = 'inner')\n",
    "merged_df = pd.merge(merged_df,country_df,on = 'country_id')"
   ]
  },
  {
   "cell_type": "code",
   "execution_count": 35,
   "id": "727766d7",
   "metadata": {},
   "outputs": [
    {
     "data": {
      "text/plain": [
       "Index(['Store_id', 'Store_name', 'city_id', 'city_name', 'state_id',\n",
       "       'state_name', 'country_id', 'country_name'],\n",
       "      dtype='object')"
      ]
     },
     "execution_count": 35,
     "metadata": {},
     "output_type": "execute_result"
    }
   ],
   "source": [
    "merged_df.columns"
   ]
  },
  {
   "cell_type": "code",
   "execution_count": 37,
   "id": "28505e2f",
   "metadata": {},
   "outputs": [
    {
     "data": {
      "text/plain": [
       "34"
      ]
     },
     "execution_count": 37,
     "metadata": {},
     "output_type": "execute_result"
    }
   ],
   "source": [
    "merged_df[['Store_id','Store_name','city_name','state_name','country_name']].to_sql('store_dim',engine,index=False,if_exists='replace')"
   ]
  },
  {
   "cell_type": "code",
   "execution_count": null,
   "id": "b15b3ec0",
   "metadata": {},
   "outputs": [],
   "source": []
  }
 ],
 "metadata": {
  "kernelspec": {
   "display_name": "Python 3 (ipykernel)",
   "language": "python",
   "name": "python3"
  },
  "language_info": {
   "codemirror_mode": {
    "name": "ipython",
    "version": 3
   },
   "file_extension": ".py",
   "mimetype": "text/x-python",
   "name": "python",
   "nbconvert_exporter": "python",
   "pygments_lexer": "ipython3",
   "version": "3.11.5"
  }
 },
 "nbformat": 4,
 "nbformat_minor": 5
}
