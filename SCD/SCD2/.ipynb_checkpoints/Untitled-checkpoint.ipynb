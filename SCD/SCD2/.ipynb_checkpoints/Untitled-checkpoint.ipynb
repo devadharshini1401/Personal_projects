{
 "cells": [
  {
   "cell_type": "code",
   "execution_count": 5,
   "id": "9f9bbc34",
   "metadata": {},
   "outputs": [],
   "source": [
    "import pandas as pd\n",
    "from sqlalchemy import Table,Column,MetaData,Integer,String,create_engine,Float,ForeignKey,Date\n",
    "engine = create_engine('sqlite:///scd2.db')\n",
    "con = engine.connect()\n",
    "from datetime import datetime\n",
    "meta = MetaData()"
   ]
  },
  {
   "cell_type": "code",
   "execution_count": 7,
   "id": "0daf672a",
   "metadata": {},
   "outputs": [],
   "source": [
    "prod = pd.read_sql('product',engine)\n",
    "p_fam = pd.read_sql('prod_family',engine)\n",
    "p_cat = pd.read_sql('prod_cat',engine)"
   ]
  }
 ],
 "metadata": {
  "kernelspec": {
   "display_name": "Python 3 (ipykernel)",
   "language": "python",
   "name": "python3"
  },
  "language_info": {
   "codemirror_mode": {
    "name": "ipython",
    "version": 3
   },
   "file_extension": ".py",
   "mimetype": "text/x-python",
   "name": "python",
   "nbconvert_exporter": "python",
   "pygments_lexer": "ipython3",
   "version": "3.11.5"
  }
 },
 "nbformat": 4,
 "nbformat_minor": 5
}
