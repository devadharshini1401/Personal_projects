{
 "cells": [
  {
   "cell_type": "code",
   "execution_count": 2,
   "id": "9f9bbc34",
   "metadata": {},
   "outputs": [],
   "source": [
    "import pandas as pd\n",
    "from sqlalchemy import Table,Column,MetaData,Integer,String,create_engine,Float,ForeignKey,Date\n",
    "engine = create_engine('sqlite:///scd2.db')\n",
    "con = engine.connect()\n",
    "from datetime import datetime\n",
    "meta = MetaData()"
   ]
  },
  {
   "cell_type": "code",
   "execution_count": 3,
   "id": "0daf672a",
   "metadata": {},
   "outputs": [],
   "source": [
    "prod = pd.read_sql('product',engine)\n",
    "p_fam = pd.read_sql('prod_family',engine)\n",
    "p_cat = pd.read_sql('prod_cat',engine)"
   ]
  },
  {
   "cell_type": "code",
   "execution_count": 4,
   "id": "f5581c44",
   "metadata": {},
   "outputs": [],
   "source": [
    "prod['prod_sur_id'] = range(100,len(prod)+100)\n",
    "prod['End_date'] = pd.NaT\n",
    "current_time = pd.to_datetime(datetime.now().date()).date()\n",
    "yesterday = current_time  - pd.Timedelta(days = 1)\n",
    "prod.loc[prod['prod_id']==7,['End_date']] = yesterday\n",
    "maxi = prod['prod_sur_id'].max()\n",
    "new_row = [7,'Legal Pad (Yellow, 50 Sheets)',3.99,0.90,current_time,7,maxi + 1,pd.NaT]\n",
    "new_df = pd.DataFrame([new_row],columns=prod.columns)\n",
    "prod = pd.concat([prod,new_df],ignore_index=True)\n",
    "prod['Start_date'] = pd.to_datetime(prod['Start_date']).dt.date"
   ]
  },
  {
   "cell_type": "code",
   "execution_count": 14,
   "id": "a0798c18",
   "metadata": {},
   "outputs": [
    {
     "data": {
      "text/html": [
       "<div>\n",
       "<style scoped>\n",
       "    .dataframe tbody tr th:only-of-type {\n",
       "        vertical-align: middle;\n",
       "    }\n",
       "\n",
       "    .dataframe tbody tr th {\n",
       "        vertical-align: top;\n",
       "    }\n",
       "\n",
       "    .dataframe thead th {\n",
       "        text-align: right;\n",
       "    }\n",
       "</style>\n",
       "<table border=\"1\" class=\"dataframe\">\n",
       "  <thead>\n",
       "    <tr style=\"text-align: right;\">\n",
       "      <th></th>\n",
       "      <th>prod_id</th>\n",
       "      <th>prod_name</th>\n",
       "      <th>prod_price</th>\n",
       "      <th>prod_cost</th>\n",
       "      <th>Start_date</th>\n",
       "      <th>prod_cat_id</th>\n",
       "      <th>prod_sur_id</th>\n",
       "      <th>End_date</th>\n",
       "    </tr>\n",
       "  </thead>\n",
       "  <tbody>\n",
       "  </tbody>\n",
       "</table>\n",
       "</div>"
      ],
      "text/plain": [
       "Empty DataFrame\n",
       "Columns: [prod_id, prod_name, prod_price, prod_cost, Start_date, prod_cat_id, prod_sur_id, End_date]\n",
       "Index: []"
      ]
     },
     "execution_count": 14,
     "metadata": {},
     "output_type": "execute_result"
    }
   ],
   "source": [
    "prod.loc[(prod['prod_id']== 7) & prod['prod_sur_id'].isna()]"
   ]
  },
  {
   "cell_type": "code",
   "execution_count": null,
   "id": "71b73820",
   "metadata": {},
   "outputs": [],
   "source": []
  }
 ],
 "metadata": {
  "kernelspec": {
   "display_name": "Python 3 (ipykernel)",
   "language": "python",
   "name": "python3"
  },
  "language_info": {
   "codemirror_mode": {
    "name": "ipython",
    "version": 3
   },
   "file_extension": ".py",
   "mimetype": "text/x-python",
   "name": "python",
   "nbconvert_exporter": "python",
   "pygments_lexer": "ipython3",
   "version": "3.11.5"
  }
 },
 "nbformat": 4,
 "nbformat_minor": 5
}
